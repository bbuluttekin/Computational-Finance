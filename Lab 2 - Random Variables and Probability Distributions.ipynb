{
 "metadata": {
  "name": "",
  "signature": "sha256:dc641411bbff9f8c251b2c87906b519e7e5d95b2c2e403ca6bd60ac5555f5809"
 },
 "nbformat": 3,
 "nbformat_minor": 0,
 "worksheets": [
  {
   "cells": [
    {
     "cell_type": "heading",
     "level": 1,
     "metadata": {},
     "source": [
      "Computational Finance by Eric Zivot"
     ]
    },
    {
     "cell_type": "heading",
     "level": 2,
     "metadata": {},
     "source": [
      "Lab 2 - Random Variables and Probability Distributions"
     ]
    },
    {
     "cell_type": "markdown",
     "metadata": {},
     "source": [
      "Let's import necessary modules."
     ]
    },
    {
     "cell_type": "code",
     "collapsed": false,
     "input": [
      "%matplotlib inline\n",
      "import scipy.stats as ss\n",
      "import numpy as np\n",
      "import matplotlib.pyplot as plt"
     ],
     "language": "python",
     "metadata": {},
     "outputs": [],
     "prompt_number": 1
    },
    {
     "cell_type": "heading",
     "level": 3,
     "metadata": {},
     "source": [
      "Compute probabilities"
     ]
    },
    {
     "cell_type": "markdown",
     "metadata": {},
     "source": [
      "**Instructions:**\n",
      "* Assign to mu_x the mean of $\\mu = 0.05$.\n",
      "* Assign to sigma_x the standard deviation of $\\sigma = (0.10)^2$.\n",
      "* Compute the following probabilities and print the result to the console:\n",
      "    - Pr(X > 0.10)\n",
      "    - Pr(X < -0.10)\n",
      "    - Pr(-0.05 < X < 0.15)"
     ]
    },
    {
     "cell_type": "code",
     "collapsed": false,
     "input": [
      "mu_x = 0.05\n",
      "mu_x"
     ],
     "language": "python",
     "metadata": {},
     "outputs": [
      {
       "metadata": {},
       "output_type": "pyout",
       "prompt_number": 2,
       "text": [
        "0.05"
       ]
      }
     ],
     "prompt_number": 2
    },
    {
     "cell_type": "code",
     "collapsed": false,
     "input": [
      "sigma_x = 0.1\n",
      "sigma_x"
     ],
     "language": "python",
     "metadata": {},
     "outputs": [
      {
       "metadata": {},
       "output_type": "pyout",
       "prompt_number": 3,
       "text": [
        "0.1"
       ]
      }
     ],
     "prompt_number": 3
    },
    {
     "cell_type": "code",
     "collapsed": false,
     "input": [
      "#Pr(X > 0.1)\n",
      "1 - ss.norm.cdf(0.1, mu_x, sigma_x)"
     ],
     "language": "python",
     "metadata": {},
     "outputs": [
      {
       "metadata": {},
       "output_type": "pyout",
       "prompt_number": 4,
       "text": [
        "0.30853753872598688"
       ]
      }
     ],
     "prompt_number": 4
    },
    {
     "cell_type": "code",
     "collapsed": false,
     "input": [
      "#Pr(X < -0.10)\n",
      "ss.norm.cdf(-0.1, mu_x, sigma_x)"
     ],
     "language": "python",
     "metadata": {},
     "outputs": [
      {
       "metadata": {},
       "output_type": "pyout",
       "prompt_number": 5,
       "text": [
        "0.066807201268858071"
       ]
      }
     ],
     "prompt_number": 5
    },
    {
     "cell_type": "code",
     "collapsed": false,
     "input": [
      "#Pr(-0.05 < X < 0.15)\n",
      "ss.norm.cdf(0.15, mu_x, sigma_x)-ss.norm.cdf(-0.05, mu_x, sigma_x)"
     ],
     "language": "python",
     "metadata": {},
     "outputs": [
      {
       "metadata": {},
       "output_type": "pyout",
       "prompt_number": 6,
       "text": [
        "0.68268949213708585"
       ]
      }
     ],
     "prompt_number": 6
    },
    {
     "cell_type": "heading",
     "level": 3,
     "metadata": {},
     "source": [
      "Compute quantiles"
     ]
    },
    {
     "cell_type": "markdown",
     "metadata": {},
     "source": [
      "**Instructions:**\n",
      "* Compute the 1%, 5%, 95% and 99% quantile with a single command. Do not assign it to a variable, just print it to the console."
     ]
    },
    {
     "cell_type": "code",
     "collapsed": false,
     "input": [
      "ss.norm.ppf([0.01, 0.05, 0.95, 0.99], mu_x, sigma_x)"
     ],
     "language": "python",
     "metadata": {},
     "outputs": [
      {
       "metadata": {},
       "output_type": "pyout",
       "prompt_number": 7,
       "text": [
        "array([-0.18263479, -0.11448536,  0.21448536,  0.28263479])"
       ]
      }
     ],
     "prompt_number": 7
    },
    {
     "cell_type": "heading",
     "level": 3,
     "metadata": {},
     "source": [
      "Compute densities"
     ]
    },
    {
     "cell_type": "markdown",
     "metadata": {},
     "source": [
      "**Instructions:**\n",
      "* For the grid of values in x_vals, compute the values of the assumed normal density for the return on Microsoft stock and assign it to MSFT.\n",
      "* For the grid of values in x_vals, compute the values of the assumed normal density for the return on Starbucks stock and assign it to SBUX."
     ]
    },
    {
     "cell_type": "code",
     "collapsed": false,
     "input": [
      "x_vals = np.linspace(-0.25, 0.35, 100)\n",
      "MSFT = ss.norm.pdf(x_vals, 0.05, 0.1)\n",
      "SBUX = ss.norm.pdf(x_vals, 0.025, 0.05)"
     ],
     "language": "python",
     "metadata": {},
     "outputs": [],
     "prompt_number": 8
    },
    {
     "cell_type": "heading",
     "level": 3,
     "metadata": {},
     "source": [
      "Add second normal curve"
     ]
    },
    {
     "cell_type": "markdown",
     "metadata": {},
     "source": [
      "**Instructions:**\n",
      "* Add a red line for the values of the assumed normal density for the return on Starbucks stock (SBUX) against x_vals"
     ]
    },
    {
     "cell_type": "code",
     "collapsed": false,
     "input": [
      "fig = plt.figure(figsize=(10,6))\n",
      "l1 = plt.plot(x_vals, MSFT)\n",
      "l2 = plt.plot(x_vals, SBUX, 'r')\n",
      "plt.legend(('Microsoft','Starbucks'), loc = 'upper left')\n",
      "plt.show()"
     ],
     "language": "python",
     "metadata": {},
     "outputs": [
      {
       "metadata": {},
       "output_type": "display_data",
       "png": "[encoded data removed]",
       "text": [
        "<matplotlib.figure.Figure at 0xaa8aa90>"
       ]
      }
     ],
     "prompt_number": 9
    },
    {
     "cell_type": "heading",
     "level": 3,
     "metadata": {},
     "source": [
      "Determine the value-at-risk of simple monthly returns"
     ]
    },
    {
     "cell_type": "markdown",
     "metadata": {},
     "source": [
      "Consider again the Microsoft stock. Assume that the simple monthly return $R$ is normally distributed with a mean $0.04$ and a variance $(0.09)^2$. The initial wealth to be invested over the month is $100,000.\n",
      "\n",
      "Determine the 1% and the 5% value-at-risk (VaR) over the month on the investment. That is, determine the loss in investment value that may occur over the next month with a 1% probability and with a 5% probability.\n",
      "\n",
      "**Instructions:**\n",
      "* Assign to mu_R the mean of R.\n",
      "* Assign to sigma_R the standard deviation of R.\n",
      "* Assign to W0 the initial wealth.\n",
      "* Compute the 1% value-at-risk and print the result to the console.\n",
      "* Compute the 5% value-at-risk and print the result to the console."
     ]
    },
    {
     "cell_type": "code",
     "collapsed": false,
     "input": [
      "mu_R = 0.04\n",
      "sigma_R = 0.09\n",
      "w0 = 100000"
     ],
     "language": "python",
     "metadata": {},
     "outputs": [],
     "prompt_number": 10
    },
    {
     "cell_type": "code",
     "collapsed": false,
     "input": [
      "# 1% value-at-risk\n",
      "w0*ss.norm.ppf(0.01, mu_R, sigma_R)"
     ],
     "language": "python",
     "metadata": {},
     "outputs": [
      {
       "metadata": {},
       "output_type": "pyout",
       "prompt_number": 11,
       "text": [
        "-16937.130866367563"
       ]
      }
     ],
     "prompt_number": 11
    },
    {
     "cell_type": "code",
     "collapsed": false,
     "input": [
      "# 5% value-at-risk\n",
      "w0*ss.norm.ppf(0.05, mu_R, sigma_R)"
     ],
     "language": "python",
     "metadata": {},
     "outputs": [
      {
       "metadata": {},
       "output_type": "pyout",
       "prompt_number": 12,
       "text": [
        "-10803.682642563253"
       ]
      }
     ],
     "prompt_number": 12
    },
    {
     "cell_type": "heading",
     "level": 3,
     "metadata": {},
     "source": [
      "Determine the value-at-risk of continuously compounded monthly returns"
     ]
    },
    {
     "cell_type": "markdown",
     "metadata": {},
     "source": [
      "Instead of the simple monthly return, now look at the continuously compounded monthly return $r$ of the Microsoft stock. Assume that r is normally distributed with a mean $0.04$ and a variance $(0.09)2$. The initial wealth to be invested over the month is $100,000.\n",
      "Determine the 1% and the 5% value-at-risk (VaR) over the month on the investment. That is, determine the loss in investment value that may occur over the next month with a 1% probability and with a 5% probability.\n",
      "\n",
      "**Instructions:**\n",
      "* Assign to mu_r the mean of r.\n",
      "* Assign to sigma_r the standard deviation of r.\n",
      "* Assign to W0 the initial wealth.\n",
      "* Compute the 1% value-at-risk and print the result to the console.\n",
      "* Compute the 5% value-at-risk and print the result to the console."
     ]
    },
    {
     "cell_type": "code",
     "collapsed": false,
     "input": [
      "mu_r = 0.04\n",
      "sigma_r = 0.09\n",
      "W0 = 100000"
     ],
     "language": "python",
     "metadata": {},
     "outputs": [],
     "prompt_number": 13
    },
    {
     "cell_type": "code",
     "collapsed": false,
     "input": [
      "# 1% value-at-risk\n",
      "W0*(np.exp(ss.norm.ppf(0.01, mu_r, sigma_r))-1)"
     ],
     "language": "python",
     "metadata": {},
     "outputs": [
      {
       "metadata": {},
       "output_type": "pyout",
       "prompt_number": 14,
       "text": [
        "-15580.461187727535"
       ]
      }
     ],
     "prompt_number": 14
    },
    {
     "cell_type": "code",
     "collapsed": false,
     "input": [
      "# 5% value-at-risk\n",
      "W0*(np.exp(ss.norm.ppf(0.05, mu_r, sigma_r))-1)"
     ],
     "language": "python",
     "metadata": {},
     "outputs": [
      {
       "metadata": {},
       "output_type": "pyout",
       "prompt_number": 15,
       "text": [
        "-10240.545937682344"
       ]
      }
     ],
     "prompt_number": 15
    },
    {
     "cell_type": "heading",
     "level": 3,
     "metadata": {},
     "source": [
      "Compute simple monthly returns"
     ]
    },
    {
     "cell_type": "markdown",
     "metadata": {},
     "source": [
      "For the remaining exercises, consider a one-month investment in two Northwest stocks: Amazon and Costco.\n",
      "Suppose you buy Amazon and Costco at the end of September at $P_{A,t\u22121}=38.23$,$P_{C,t\u22121}=41.11$ and then sell at the end of October for $P_{A,t}=41.29$,$P_{C,t}=41.74$. Compute the simple monthly returns for the two stocks.\n",
      "Note that the above prices were the actual closing prices for 2004 taken from Yahoo!.\n",
      "\n",
      "**Instructions:**\n",
      "* Assign to PA a vector that contains the prices of the Amazon stock.\n",
      "* Assign to PC a vector that contains the prices of the Costco stock.\n",
      "* Compute the simple monthly return on the Amazon stock and assign it to RA.\n",
      "* Compute the simple monthly return on the Costco stock and assign it to RC."
     ]
    },
    {
     "cell_type": "code",
     "collapsed": false,
     "input": [
      "PA = [38.23, 41.29]\n",
      "PC = [41.11, 41.74]"
     ],
     "language": "python",
     "metadata": {},
     "outputs": [],
     "prompt_number": 16
    },
    {
     "cell_type": "code",
     "collapsed": false,
     "input": [
      "RA = (PA[1]-PA[0])/PA[0]\n",
      "RA"
     ],
     "language": "python",
     "metadata": {},
     "outputs": [
      {
       "metadata": {},
       "output_type": "pyout",
       "prompt_number": 17,
       "text": [
        "0.08004185194873142"
       ]
      }
     ],
     "prompt_number": 17
    },
    {
     "cell_type": "code",
     "collapsed": false,
     "input": [
      "RC = (PC[1]-PC[0])/PC[0]\n",
      "RC"
     ],
     "language": "python",
     "metadata": {},
     "outputs": [
      {
       "metadata": {},
       "output_type": "pyout",
       "prompt_number": 18,
       "text": [
        "0.015324738506446183"
       ]
      }
     ],
     "prompt_number": 18
    },
    {
     "cell_type": "heading",
     "level": 3,
     "metadata": {},
     "source": [
      "Compute continuously compounded monthly returns"
     ]
    },
    {
     "cell_type": "markdown",
     "metadata": {},
     "source": [
      "Now compute the continuously compounded monthly returns on the Amazon and Costco stocks.\n",
      "\n",
      "**Instructions:**\n",
      "* Compute the continuously compounded monthly return for Amazon and assign it to rA.\n",
      "* Compute the continuously compounded monthly return for Costco and assign it to rC."
     ]
    },
    {
     "cell_type": "code",
     "collapsed": false,
     "input": [
      "rA = np.log(1+RA)\n",
      "rA"
     ],
     "language": "python",
     "metadata": {},
     "outputs": [
      {
       "metadata": {},
       "output_type": "pyout",
       "prompt_number": 19,
       "text": [
        "0.076999792189677452"
       ]
      }
     ],
     "prompt_number": 19
    },
    {
     "cell_type": "code",
     "collapsed": false,
     "input": [
      "rC = np.log(1+RC)\n",
      "rC"
     ],
     "language": "python",
     "metadata": {},
     "outputs": [
      {
       "metadata": {},
       "output_type": "pyout",
       "prompt_number": 20,
       "text": [
        "0.015208500739267638"
       ]
      }
     ],
     "prompt_number": 20
    },
    {
     "cell_type": "heading",
     "level": 3,
     "metadata": {},
     "source": [
      "Compute simple total returns and dividend yields"
     ]
    },
    {
     "cell_type": "markdown",
     "metadata": {},
     "source": [
      "Suppose Amazon paid a $0.10 per share cash dividend at the end of October. Compute the monthly simple total return on Amazon and the monthly dividend yield.\n",
      "\n",
      "**Instructions:**\n",
      "* Assign to DA the cash dividend per share.\n",
      "* Compute the monthly simple total return and assign it to RA_total.\n",
      "* Compute the monthly dividend yield and assign it to DY."
     ]
    },
    {
     "cell_type": "code",
     "collapsed": false,
     "input": [
      "DA = 0.10\n",
      "RA_total = (PA[1]-PA[0]+DA)/PA[0]\n",
      "RA_total"
     ],
     "language": "python",
     "metadata": {},
     "outputs": [
      {
       "metadata": {},
       "output_type": "pyout",
       "prompt_number": 21,
       "text": [
        "0.0826575987444416"
       ]
      }
     ],
     "prompt_number": 21
    },
    {
     "cell_type": "code",
     "collapsed": false,
     "input": [
      "DY = DA/PA[0]\n",
      "DY"
     ],
     "language": "python",
     "metadata": {},
     "outputs": [
      {
       "metadata": {},
       "output_type": "pyout",
       "prompt_number": 22,
       "text": [
        "0.0026157467957101757"
       ]
      }
     ],
     "prompt_number": 22
    },
    {
     "cell_type": "heading",
     "level": 3,
     "metadata": {},
     "source": [
      "Compute annual returns"
     ]
    },
    {
     "cell_type": "markdown",
     "metadata": {},
     "source": [
      "Suppose the monthly returns on Amazon are equal to RA every month for one year. Compute the simple annual returns, as well as the continuously compounded annual returns.\n",
      "\n",
      "**Instructions:**\n",
      "* Compute the simple annual return and assign it to RA_annual.\n",
      "* Compute the continuously compounded annual return and assign it to rA_annual."
     ]
    },
    {
     "cell_type": "code",
     "collapsed": false,
     "input": [
      "RA_annual = (1 + RA)**12-1\n",
      "RA_annual"
     ],
     "language": "python",
     "metadata": {},
     "outputs": [
      {
       "metadata": {},
       "output_type": "pyout",
       "prompt_number": 23,
       "text": [
        "1.5193413700621674"
       ]
      }
     ],
     "prompt_number": 23
    },
    {
     "cell_type": "code",
     "collapsed": false,
     "input": [
      "rA_annual = np.log(1 + RA_annual)\n",
      "rA_annual"
     ],
     "language": "python",
     "metadata": {},
     "outputs": [
      {
       "metadata": {},
       "output_type": "pyout",
       "prompt_number": 24,
       "text": [
        "0.92399750627612931"
       ]
      }
     ],
     "prompt_number": 24
    },
    {
     "cell_type": "heading",
     "level": 3,
     "metadata": {},
     "source": [
      "Compute portfolio shares and portfolio returns"
     ]
    },
    {
     "cell_type": "markdown",
     "metadata": {},
     "source": [
      "At the end of September 2004, suppose you have $10,000 to invest in Amazon and Costco over the next month.\n",
      "\n",
      "Compute your portfolio shares if you invest $8,000 in Amazon and 2,000 in Costco. Moreover, compute the simple monthly return on the portfolio and assume that no dividends were paid.\n",
      "\n",
      "**Instructions:**\n",
      "* Compute the portfolio share of your Amazon stocks and assign it to xA.\n",
      "* Compute the portfolio share of your Costco stocks and assign it to xC.\n",
      "* Compute the simple monthly return on the portfolio and print the result to the console."
     ]
    },
    {
     "cell_type": "code",
     "collapsed": false,
     "input": [
      "xA = float(8000) / 10000\n",
      "xA"
     ],
     "language": "python",
     "metadata": {},
     "outputs": [
      {
       "metadata": {},
       "output_type": "pyout",
       "prompt_number": 25,
       "text": [
        "0.8"
       ]
      }
     ],
     "prompt_number": 25
    },
    {
     "cell_type": "code",
     "collapsed": false,
     "input": [
      "xC = 1 - xA\n",
      "xC"
     ],
     "language": "python",
     "metadata": {},
     "outputs": [
      {
       "metadata": {},
       "output_type": "pyout",
       "prompt_number": 26,
       "text": [
        "0.19999999999999996"
       ]
      }
     ],
     "prompt_number": 26
    },
    {
     "cell_type": "code",
     "collapsed": false,
     "input": [
      "xA*RA + xC*RC"
     ],
     "language": "python",
     "metadata": {},
     "outputs": [
      {
       "metadata": {},
       "output_type": "pyout",
       "prompt_number": 27,
       "text": [
        "0.06709842926027437"
       ]
      }
     ],
     "prompt_number": 27
    },
    {
     "cell_type": "markdown",
     "metadata": {},
     "source": [
      "Author: **Baran Buluttekin**"
     ]
    },
    {
     "cell_type": "markdown",
     "metadata": {},
     "source": [
      " "
     ]
    }
   ],
   "metadata": {}
  }
 ]
}